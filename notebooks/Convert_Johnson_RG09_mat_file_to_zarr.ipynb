{
 "cells": [
  {
   "cell_type": "markdown",
   "metadata": {},
   "source": [
    "## Convert smooth Roemmich-Gilson Argo Climatology data from mat to zarr\n",
    "---\n",
    "**Author**: Hillary A. Scannell (scanh@uw.edu)\n",
    "\n",
    "**Last updates**: 25 November 2020\n",
    "\n",
    "This data was processed on July 17, 2020 by Greg Johnson (NOAA/PMEL). It contains the smooth model coefficients to reconstruct the total smooth fields for subsurface temperature and salinity on isobars. \n",
    "\n",
    "> **Dataset**: Roemmich, D. and J. Gilson, 2009: The 2004-2008 mean and annual cycle of temperature, salinity, and steric height in the global ocean from the Argo Program. Progress in Oceanography, 82, 81-100. "
   ]
  },
  {
   "cell_type": "code",
   "execution_count": 1,
   "metadata": {},
   "outputs": [],
   "source": [
    "import numpy as np\n",
    "import h5py\n",
    "import xarray as xr"
   ]
  },
  {
   "cell_type": "code",
   "execution_count": null,
   "metadata": {},
   "outputs": [
    {
     "name": "stdout",
     "output_type": "stream",
     "text": [
      "['#refs#', 'ar', 'ba', 'dd', 'dpr', 'dyr', 'i', 'i1', 'i2', 'i3', 'ii', 'lat', 'lon', 'ltise', 'm', 'model', 'n', 'o', 'p', 'pmodel', 'pp', 'pr', 'q', 'r', 'sa_ano', 'sa_ju', 'sa_ju2', 'sa_mn', 'sa_mod', 'sa_modf', 'sa_res', 'sa_resf', 'sa_resff', 'te_ano', 'te_ju', 'te_ju2', 'te_mn', 'te_mod', 'te_modf', 'te_res', 'te_resf', 'te_resff', 'ti', 'vo', 'x', 'xx', 'y', 'yy']\n"
     ]
    }
   ],
   "source": [
    "with h5py.File('/glade/scratch/scanh/grl_2020_data/te_sa_model_no_nino_smoothed_copy.mat', 'r') as f:\n",
    "    print(list(f.keys()))\n",
    "    dyr = np.squeeze(np.array(f['dyr']))\n",
    "    bathymetry_mask = np.array(f['ba'])\n",
    "    lat = np.squeeze(np.array(f['lat']))\n",
    "    lon = np.squeeze(np.array(f['lon']))\n",
    "    pressure = np.squeeze(np.array(f['pr']))\n",
    "    argo_salinity_anomaly_filt = np.array(f['sa_resff'])\n",
    "    argo_temperature_anomaly_filt = np.array(f['te_resff'])\n",
    "    argo_te_mean = np.array(f['te_mn'])\n",
    "    argo_sa_mean = np.array(f['sa_mn'])\n",
    "    te_model = np.array(f['te_modf'])\n",
    "    sa_model = np.array(f['sa_modf'])\n",
    "    pmodel = np.array(f['pmodel'])"
   ]
  },
  {
   "cell_type": "code",
   "execution_count": 26,
   "metadata": {},
   "outputs": [
    {
     "name": "stdout",
     "output_type": "stream",
     "text": [
      "CPU times: user 13.7 s, sys: 10.9 s, total: 24.6 s\n",
      "Wall time: 24.6 s\n"
     ]
    }
   ],
   "source": [
    "%%time\n",
    "\n",
    "# Reconstruct the total temperature and salinity fields using \n",
    "# the smoothed model coefficients and smoothed anomaly fields\n",
    "te_tot = argo_temperature_anomaly_filt + argo_te_mean + te_model[0,:,:,:] + te_model[2,:,:,:]*np.reshape(np.sin(2*np.pi*dyr),(198,1,1,1)) + te_model[3,:,:,:]*np.reshape(np.cos(2*np.pi*dyr),(198,1,1,1)) + te_model[4,:,:,:]*np.reshape(np.sin(4*np.pi*dyr),(198,1,1,1)) + te_model[5,:,:,:]*np.reshape(np.cos(4*np.pi*dyr),(198,1,1,1))\n",
    "sa_tot = argo_salinity_anomaly_filt + argo_sa_mean + sa_model[0,:,:,:] + sa_model[2,:,:,:]*np.reshape(np.sin(2*np.pi*dyr),(198,1,1,1)) + sa_model[3,:,:,:]*np.reshape(np.cos(2*np.pi*dyr),(198,1,1,1)) + sa_model[4,:,:,:]*np.reshape(np.sin(4*np.pi*dyr),(198,1,1,1)) + sa_model[5,:,:,:]*np.reshape(np.cos(4*np.pi*dyr),(198,1,1,1))\n"
   ]
  },
  {
   "cell_type": "code",
   "execution_count": 27,
   "metadata": {},
   "outputs": [],
   "source": [
    "RG_filt = xr.Dataset({'te_anom_smooth': (('dyr', 'pressure', 'lat', 'lon'), argo_temperature_anomaly_filt),\n",
    "                     'sa_anom_smooth': (('dyr', 'pressure', 'lat', 'lon'), argo_salinity_anomaly_filt),\n",
    "                     'argo_te_mean': (('pressure', 'lat', 'lon'), argo_te_mean),\n",
    "                     'argo_sa_mean': (('pressure', 'lat', 'lon'), argo_sa_mean),\n",
    "                     'mask': (('pressure','lat', 'lon'), bathymetry_mask),\n",
    "                     'te_modelf': (('coeff','pressure','lat','lon'), te_model),\n",
    "                     'sa_modelf': (('coeff','pressure','lat','lon'), sa_model),\n",
    "                     'te_tot': (('dyr', 'pressure', 'lat', 'lon'), te_tot),\n",
    "                     'sa_tot': (('dyr', 'pressure', 'lat', 'lon'), sa_tot)},\n",
    "                coords={'dyr': dyr, 'pressure': pressure ,'lat': lat, 'lon': lon, 'coeff': np.arange(1,7)})\n"
   ]
  },
  {
   "cell_type": "code",
   "execution_count": 29,
   "metadata": {},
   "outputs": [
    {
     "data": {
      "text/plain": [
       "<xarray.backends.zarr.ZarrStore at 0x2b815199aa90>"
      ]
     },
     "execution_count": 29,
     "metadata": {},
     "output_type": "execute_result"
    }
   ],
   "source": [
    "# Save xarray dataset (RG_filt) to zarr\n",
    "RG_filt.to_zarr(\"/glade/scratch/scanh/grl_2020_data/te_se_smooth_RG09_Johnson_170720.zarr\")\n"
   ]
  }
 ],
 "metadata": {
  "kernelspec": {
   "display_name": "Python [conda env:miniconda3-scannell-grl2020]",
   "language": "python",
   "name": "conda-env-miniconda3-scannell-grl2020-py"
  },
  "language_info": {
   "codemirror_mode": {
    "name": "ipython",
    "version": 3
   },
   "file_extension": ".py",
   "mimetype": "text/x-python",
   "name": "python",
   "nbconvert_exporter": "python",
   "pygments_lexer": "ipython3",
   "version": "3.9.0"
  }
 },
 "nbformat": 4,
 "nbformat_minor": 4
}
